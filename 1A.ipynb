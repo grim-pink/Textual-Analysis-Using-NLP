{
  "metadata": {
    "kernelspec": {
      "display_name": "Python 3",
      "name": "python3"
    },
    "language_info": {
      "name": "python",
      "version": "3.10.13",
      "mimetype": "text/x-python",
      "codemirror_mode": {
        "name": "ipython",
        "version": 3
      },
      "pygments_lexer": "ipython3",
      "nbconvert_exporter": "python",
      "file_extension": ".py"
    },
    "kaggle": {
      "accelerator": "none",
      "dataSources": [
        {
          "sourceId": 7967973,
          "sourceType": "datasetVersion",
          "datasetId": 4688189
        }
      ],
      "dockerImageVersionId": 30673,
      "isInternetEnabled": true,
      "language": "python",
      "sourceType": "notebook",
      "isGpuEnabled": false
    },
    "colab": {
      "provenance": [],
      "machine_shape": "hm"
    },
    "accelerator": "TPU",
    "widgets": {
      "application/vnd.jupyter.widget-state+json": {
        "17a5a54c9e304e27a48bc5c65b8002c2": {
          "model_module": "@jupyter-widgets/controls",
          "model_name": "HBoxModel",
          "model_module_version": "1.5.0",
          "state": {
            "_dom_classes": [],
            "_model_module": "@jupyter-widgets/controls",
            "_model_module_version": "1.5.0",
            "_model_name": "HBoxModel",
            "_view_count": null,
            "_view_module": "@jupyter-widgets/controls",
            "_view_module_version": "1.5.0",
            "_view_name": "HBoxView",
            "box_style": "",
            "children": [
              "IPY_MODEL_64bbeefe210b494d979df1489272c9cc",
              "IPY_MODEL_cb55076e37bc40ca9e3a0a1cb7daa5cb",
              "IPY_MODEL_91d465e491d24e8ebd08c70a89bce81e"
            ],
            "layout": "IPY_MODEL_f132c6d568ba4754bf78511c48108805"
          }
        },
        "64bbeefe210b494d979df1489272c9cc": {
          "model_module": "@jupyter-widgets/controls",
          "model_name": "HTMLModel",
          "model_module_version": "1.5.0",
          "state": {
            "_dom_classes": [],
            "_model_module": "@jupyter-widgets/controls",
            "_model_module_version": "1.5.0",
            "_model_name": "HTMLModel",
            "_view_count": null,
            "_view_module": "@jupyter-widgets/controls",
            "_view_module_version": "1.5.0",
            "_view_name": "HTMLView",
            "description": "",
            "description_tooltip": null,
            "layout": "IPY_MODEL_bc9226f175d04e57a17e5d84ee1deb46",
            "placeholder": "​",
            "style": "IPY_MODEL_f7bd46667e8344e1a30eb4f77f934587",
            "value": "model.safetensors: 100%"
          }
        },
        "cb55076e37bc40ca9e3a0a1cb7daa5cb": {
          "model_module": "@jupyter-widgets/controls",
          "model_name": "FloatProgressModel",
          "model_module_version": "1.5.0",
          "state": {
            "_dom_classes": [],
            "_model_module": "@jupyter-widgets/controls",
            "_model_module_version": "1.5.0",
            "_model_name": "FloatProgressModel",
            "_view_count": null,
            "_view_module": "@jupyter-widgets/controls",
            "_view_module_version": "1.5.0",
            "_view_name": "ProgressView",
            "bar_style": "success",
            "description": "",
            "description_tooltip": null,
            "layout": "IPY_MODEL_5cec5e5bf7354237976ad5a33fd1f395",
            "max": 440449768,
            "min": 0,
            "orientation": "horizontal",
            "style": "IPY_MODEL_a818d3fb75184247bf19be394773ef80",
            "value": 440449768
          }
        },
        "91d465e491d24e8ebd08c70a89bce81e": {
          "model_module": "@jupyter-widgets/controls",
          "model_name": "HTMLModel",
          "model_module_version": "1.5.0",
          "state": {
            "_dom_classes": [],
            "_model_module": "@jupyter-widgets/controls",
            "_model_module_version": "1.5.0",
            "_model_name": "HTMLModel",
            "_view_count": null,
            "_view_module": "@jupyter-widgets/controls",
            "_view_module_version": "1.5.0",
            "_view_name": "HTMLView",
            "description": "",
            "description_tooltip": null,
            "layout": "IPY_MODEL_31ccbb4d13f14fcc8b6fae769ae8349a",
            "placeholder": "​",
            "style": "IPY_MODEL_2052d139c8da4ef494fc22eebc65eb82",
            "value": " 440M/440M [00:02&lt;00:00, 220MB/s]"
          }
        },
        "f132c6d568ba4754bf78511c48108805": {
          "model_module": "@jupyter-widgets/base",
          "model_name": "LayoutModel",
          "model_module_version": "1.2.0",
          "state": {
            "_model_module": "@jupyter-widgets/base",
            "_model_module_version": "1.2.0",
            "_model_name": "LayoutModel",
            "_view_count": null,
            "_view_module": "@jupyter-widgets/base",
            "_view_module_version": "1.2.0",
            "_view_name": "LayoutView",
            "align_content": null,
            "align_items": null,
            "align_self": null,
            "border": null,
            "bottom": null,
            "display": null,
            "flex": null,
            "flex_flow": null,
            "grid_area": null,
            "grid_auto_columns": null,
            "grid_auto_flow": null,
            "grid_auto_rows": null,
            "grid_column": null,
            "grid_gap": null,
            "grid_row": null,
            "grid_template_areas": null,
            "grid_template_columns": null,
            "grid_template_rows": null,
            "height": null,
            "justify_content": null,
            "justify_items": null,
            "left": null,
            "margin": null,
            "max_height": null,
            "max_width": null,
            "min_height": null,
            "min_width": null,
            "object_fit": null,
            "object_position": null,
            "order": null,
            "overflow": null,
            "overflow_x": null,
            "overflow_y": null,
            "padding": null,
            "right": null,
            "top": null,
            "visibility": null,
            "width": null
          }
        },
        "bc9226f175d04e57a17e5d84ee1deb46": {
          "model_module": "@jupyter-widgets/base",
          "model_name": "LayoutModel",
          "model_module_version": "1.2.0",
          "state": {
            "_model_module": "@jupyter-widgets/base",
            "_model_module_version": "1.2.0",
            "_model_name": "LayoutModel",
            "_view_count": null,
            "_view_module": "@jupyter-widgets/base",
            "_view_module_version": "1.2.0",
            "_view_name": "LayoutView",
            "align_content": null,
            "align_items": null,
            "align_self": null,
            "border": null,
            "bottom": null,
            "display": null,
            "flex": null,
            "flex_flow": null,
            "grid_area": null,
            "grid_auto_columns": null,
            "grid_auto_flow": null,
            "grid_auto_rows": null,
            "grid_column": null,
            "grid_gap": null,
            "grid_row": null,
            "grid_template_areas": null,
            "grid_template_columns": null,
            "grid_template_rows": null,
            "height": null,
            "justify_content": null,
            "justify_items": null,
            "left": null,
            "margin": null,
            "max_height": null,
            "max_width": null,
            "min_height": null,
            "min_width": null,
            "object_fit": null,
            "object_position": null,
            "order": null,
            "overflow": null,
            "overflow_x": null,
            "overflow_y": null,
            "padding": null,
            "right": null,
            "top": null,
            "visibility": null,
            "width": null
          }
        },
        "f7bd46667e8344e1a30eb4f77f934587": {
          "model_module": "@jupyter-widgets/controls",
          "model_name": "DescriptionStyleModel",
          "model_module_version": "1.5.0",
          "state": {
            "_model_module": "@jupyter-widgets/controls",
            "_model_module_version": "1.5.0",
            "_model_name": "DescriptionStyleModel",
            "_view_count": null,
            "_view_module": "@jupyter-widgets/base",
            "_view_module_version": "1.2.0",
            "_view_name": "StyleView",
            "description_width": ""
          }
        },
        "5cec5e5bf7354237976ad5a33fd1f395": {
          "model_module": "@jupyter-widgets/base",
          "model_name": "LayoutModel",
          "model_module_version": "1.2.0",
          "state": {
            "_model_module": "@jupyter-widgets/base",
            "_model_module_version": "1.2.0",
            "_model_name": "LayoutModel",
            "_view_count": null,
            "_view_module": "@jupyter-widgets/base",
            "_view_module_version": "1.2.0",
            "_view_name": "LayoutView",
            "align_content": null,
            "align_items": null,
            "align_self": null,
            "border": null,
            "bottom": null,
            "display": null,
            "flex": null,
            "flex_flow": null,
            "grid_area": null,
            "grid_auto_columns": null,
            "grid_auto_flow": null,
            "grid_auto_rows": null,
            "grid_column": null,
            "grid_gap": null,
            "grid_row": null,
            "grid_template_areas": null,
            "grid_template_columns": null,
            "grid_template_rows": null,
            "height": null,
            "justify_content": null,
            "justify_items": null,
            "left": null,
            "margin": null,
            "max_height": null,
            "max_width": null,
            "min_height": null,
            "min_width": null,
            "object_fit": null,
            "object_position": null,
            "order": null,
            "overflow": null,
            "overflow_x": null,
            "overflow_y": null,
            "padding": null,
            "right": null,
            "top": null,
            "visibility": null,
            "width": null
          }
        },
        "a818d3fb75184247bf19be394773ef80": {
          "model_module": "@jupyter-widgets/controls",
          "model_name": "ProgressStyleModel",
          "model_module_version": "1.5.0",
          "state": {
            "_model_module": "@jupyter-widgets/controls",
            "_model_module_version": "1.5.0",
            "_model_name": "ProgressStyleModel",
            "_view_count": null,
            "_view_module": "@jupyter-widgets/base",
            "_view_module_version": "1.2.0",
            "_view_name": "StyleView",
            "bar_color": null,
            "description_width": ""
          }
        },
        "31ccbb4d13f14fcc8b6fae769ae8349a": {
          "model_module": "@jupyter-widgets/base",
          "model_name": "LayoutModel",
          "model_module_version": "1.2.0",
          "state": {
            "_model_module": "@jupyter-widgets/base",
            "_model_module_version": "1.2.0",
            "_model_name": "LayoutModel",
            "_view_count": null,
            "_view_module": "@jupyter-widgets/base",
            "_view_module_version": "1.2.0",
            "_view_name": "LayoutView",
            "align_content": null,
            "align_items": null,
            "align_self": null,
            "border": null,
            "bottom": null,
            "display": null,
            "flex": null,
            "flex_flow": null,
            "grid_area": null,
            "grid_auto_columns": null,
            "grid_auto_flow": null,
            "grid_auto_rows": null,
            "grid_column": null,
            "grid_gap": null,
            "grid_row": null,
            "grid_template_areas": null,
            "grid_template_columns": null,
            "grid_template_rows": null,
            "height": null,
            "justify_content": null,
            "justify_items": null,
            "left": null,
            "margin": null,
            "max_height": null,
            "max_width": null,
            "min_height": null,
            "min_width": null,
            "object_fit": null,
            "object_position": null,
            "order": null,
            "overflow": null,
            "overflow_x": null,
            "overflow_y": null,
            "padding": null,
            "right": null,
            "top": null,
            "visibility": null,
            "width": null
          }
        },
        "2052d139c8da4ef494fc22eebc65eb82": {
          "model_module": "@jupyter-widgets/controls",
          "model_name": "DescriptionStyleModel",
          "model_module_version": "1.5.0",
          "state": {
            "_model_module": "@jupyter-widgets/controls",
            "_model_module_version": "1.5.0",
            "_model_name": "DescriptionStyleModel",
            "_view_count": null,
            "_view_module": "@jupyter-widgets/base",
            "_view_module_version": "1.2.0",
            "_view_name": "StyleView",
            "description_width": ""
          }
        }
      }
    }
  },
  "nbformat_minor": 0,
  "nbformat": 4,
  "cells": [
    {
      "cell_type": "code",
      "source": [
        "from google.colab import drive\n",
        "drive.mount('/content/drive')"
      ],
      "metadata": {
        "colab": {
          "base_uri": "https://localhost:8080/"
        },
        "id": "eQDBacl-g2ua",
        "outputId": "3d186c5b-3c64-4fbd-ba9d-66691da9b830"
      },
      "execution_count": 1,
      "outputs": [
        {
          "output_type": "stream",
          "name": "stdout",
          "text": [
            "Mounted at /content/drive\n"
          ]
        }
      ]
    },
    {
      "cell_type": "code",
      "source": [
        "import pandas as pd\n",
        "import torch\n",
        "from torch.utils.data import DataLoader, Dataset\n",
        "from transformers import BertTokenizer, BertModel, AdamW\n",
        "from scipy.stats import pearsonr\n",
        "import matplotlib.pyplot as plt\n",
        "import os\n",
        "\n",
        "def preprocess_dataset(file_path):\n",
        "    processed_rows = []\n",
        "\n",
        "    with open(file_path, 'r', encoding='utf-8') as file:\n",
        "        for line in file:\n",
        "            columns = line.strip().split('\\t')\n",
        "            if len(columns) == 3:\n",
        "                processed_rows.append(columns)\n",
        "\n",
        "    df = pd.DataFrame(processed_rows, columns=['score', 'sentence1', 'sentence2'])\n",
        "    df['score'] = pd.to_numeric(df['score'], errors='coerce')\n",
        "    df.dropna(subset=['score'], inplace=True)\n",
        "\n",
        "    return df\n",
        "\n",
        "train_df = preprocess_dataset('/content/drive/MyDrive/train.csv')\n",
        "valid_df = preprocess_dataset('/content/drive/MyDrive/dev.csv')\n",
        "\n",
        "class TextSimilarityDataset(Dataset):\n",
        "    def __init__(self, dataframe, tokenizer):\n",
        "        self.data = dataframe\n",
        "        self.tokenizer = tokenizer\n",
        "\n",
        "    def __len__(self):\n",
        "        return len(self.data)\n",
        "\n",
        "    def __getitem__(self, index):\n",
        "        sentence1 = self.data.iloc[index]['sentence1']\n",
        "        sentence2 = self.data.iloc[index]['sentence2']\n",
        "        label = self.data.iloc[index]['score']\n",
        "        encoding = self.tokenizer(sentence1, sentence2, return_tensors='pt', padding='max_length', max_length=128, truncation=True)\n",
        "        return {\n",
        "            'input_ids': encoding['input_ids'].squeeze(),\n",
        "            'attention_mask': encoding['attention_mask'].squeeze(),\n",
        "            'labels': torch.tensor(label, dtype=torch.float)\n",
        "        }\n",
        "\n",
        "tokenizer = BertTokenizer.from_pretrained('bert-base-uncased')\n",
        "bert_model = BertModel.from_pretrained('bert-base-uncased')\n",
        "\n",
        "class TextSimilarityModel(torch.nn.Module):\n",
        "    def __init__(self, bert_model):\n",
        "        super(TextSimilarityModel, self).__init__()\n",
        "        self.bert = bert_model\n",
        "        self.regressor = torch.nn.Linear(768, 1)\n",
        "\n",
        "    def forward(self, input_ids, attention_mask):\n",
        "        outputs = self.bert(input_ids=input_ids, attention_mask=attention_mask, return_dict=True)\n",
        "        pooled_output = outputs.pooler_output\n",
        "        similarity_score = self.regressor(pooled_output)\n",
        "        return similarity_score.squeeze()\n",
        "\n",
        "model = TextSimilarityModel(bert_model)\n",
        "optimizer = AdamW(model.parameters(), lr=5e-5)\n",
        "loss_fn = torch.nn.MSELoss()\n",
        "\n",
        "train_dataset = TextSimilarityDataset(train_df, tokenizer)\n",
        "valid_dataset = TextSimilarityDataset(valid_df, tokenizer)\n",
        "train_loader = DataLoader(train_dataset, batch_size=16, shuffle=True)\n",
        "valid_loader = DataLoader(valid_dataset, batch_size=16, shuffle=False)\n",
        "\n",
        "model_save_path = '/content/drive/MyDrive/1a_checkpoints'\n",
        "os.makedirs(model_save_path, exist_ok=True)\n",
        "\n",
        "train_losses = []\n",
        "valid_losses = []\n",
        "\n",
        "num_epochs = 5\n",
        "for epoch in range(num_epochs):\n",
        "    model.train()\n",
        "    total_train_loss = 0\n",
        "    for batch in train_loader:\n",
        "        optimizer.zero_grad()\n",
        "        outputs = model(batch['input_ids'], batch['attention_mask'])\n",
        "        loss = loss_fn(outputs, batch['labels'])\n",
        "        loss.backward()\n",
        "        optimizer.step()\n",
        "        total_train_loss += loss.item()\n",
        "\n",
        "    avg_train_loss = total_train_loss / len(train_loader)\n",
        "    train_losses.append(avg_train_loss)\n",
        "\n",
        "    model.eval()\n",
        "    total_valid_loss = 0\n",
        "    predictions, labels = [], []\n",
        "    with torch.no_grad():\n",
        "        for batch in valid_loader:\n",
        "            outputs = model(batch['input_ids'], batch['attention_mask'])\n",
        "            loss = loss_fn(outputs, batch['labels'])\n",
        "            total_valid_loss += loss.item()\n",
        "            predictions.extend(outputs.detach().cpu().numpy())\n",
        "            labels.extend(batch['labels'].cpu().numpy())\n",
        "\n",
        "    avg_valid_loss = total_valid_loss / len(valid_loader)\n",
        "    valid_losses.append(avg_valid_loss)\n",
        "\n",
        "    pearson_corr, _ = pearsonr(predictions, labels)\n",
        "    print(f'Epoch {epoch + 1}: Training Loss = {avg_train_loss}, Validation Loss = {avg_valid_loss}, Validation Pearson Correlation Coefficient: {pearson_corr}')\n",
        "\n",
        "    checkpoint_path = os.path.join(model_save_path, f'model_epoch_{epoch+1}.pth')\n",
        "    torch.save(model.state_dict(), checkpoint_path)\n",
        "\n"
      ],
      "metadata": {
        "colab": {
          "base_uri": "https://localhost:8080/"
        },
        "id": "11Fp28e6nwGU",
        "outputId": "71cb7dc3-3ef2-437e-a572-fcf4f8686b99"
      },
      "execution_count": null,
      "outputs": [
        {
          "output_type": "stream",
          "name": "stderr",
          "text": [
            "/usr/local/lib/python3.10/dist-packages/transformers/optimization.py:429: FutureWarning: This implementation of AdamW is deprecated and will be removed in a future version. Use the PyTorch implementation torch.optim.AdamW instead, or set `no_deprecation_warning=True` to disable this warning\n",
            "  warnings.warn(\n"
          ]
        },
        {
          "output_type": "stream",
          "name": "stdout",
          "text": [
            "Epoch 1: Training Loss = 1.0911039111911416, Validation Loss = 0.5960667468607426, Validation Pearson Correlation Coefficient: 0.8613920695406979\n",
            "Epoch 2: Training Loss = 0.42434747590153826, Validation Loss = 0.6093427229510702, Validation Pearson Correlation Coefficient: 0.8757925609920884\n",
            "Epoch 3: Training Loss = 0.22470038675335274, Validation Loss = 0.5568776318965398, Validation Pearson Correlation Coefficient: 0.8748488237968717\n",
            "Epoch 4: Training Loss = 0.13847302840057374, Validation Loss = 0.6163070012369881, Validation Pearson Correlation Coefficient: 0.8694590223830543\n",
            "Epoch 5: Training Loss = 0.10740855150446504, Validation Loss = 0.577765175829763, Validation Pearson Correlation Coefficient: 0.8689319970902898\n"
          ]
        }
      ]
    },
    {
      "cell_type": "code",
      "source": [
        "plt.plot(train_losses, label='Training Loss')\n",
        "plt.plot(valid_losses, label='Validation Loss')\n",
        "plt.xlabel('Epochs')\n",
        "plt.ylabel('Loss')\n",
        "plt.legend()\n",
        "plt.title('Training and Validation Loss vs. Epochs')\n",
        "plt.show()\n"
      ],
      "metadata": {
        "colab": {
          "base_uri": "https://localhost:8080/",
          "height": 472
        },
        "id": "4WpNv3d4sfx2",
        "outputId": "16a818c6-dba9-4f5b-c213-df9baacc448e"
      },
      "execution_count": null,
      "outputs": [
        {
          "output_type": "display_data",
          "data": {
            "text/plain": [
              "<Figure size 640x480 with 1 Axes>"
            ],
            "image/png": "[encoded data removed]"
          },
          "metadata": {}
        }
      ]
    },
    {
      "cell_type": "markdown",
      "source": [
        "FOR DEMO"
      ],
      "metadata": {
        "id": "n2iUENG8_bkC"
      }
    },
    {
      "cell_type": "code",
      "source": [
        "import pandas as pd\n",
        "import torch\n",
        "from transformers import BertTokenizer, BertModel\n",
        "from scipy.stats import pearsonr\n",
        "from torch.utils.data import DataLoader, Dataset\n",
        "\n",
        "class TextSimilarityDataset(Dataset):\n",
        "    def __init__(self, dataframe, tokenizer):\n",
        "        self.data = dataframe\n",
        "        self.tokenizer = tokenizer\n",
        "\n",
        "    def __len__(self):\n",
        "        return len(self.data)\n",
        "    # 'setence' instead of sentence was written in the sample_test csv file\n",
        "    def __getitem__(self, index):\n",
        "        sentence1 = self.data.iloc[index]['setence1']\n",
        "        sentence2 = self.data.iloc[index]['sentence2']\n",
        "        encoding = self.tokenizer(sentence1, sentence2, return_tensors='pt', padding='max_length', max_length=128, truncation=True)\n",
        "        return {\n",
        "            'input_ids': encoding['input_ids'].squeeze(),\n",
        "            'attention_mask': encoding['attention_mask'].squeeze()\n",
        "        }\n",
        "\n",
        "class TextSimilarityModel(torch.nn.Module):\n",
        "    def __init__(self, bert_model):\n",
        "        super(TextSimilarityModel, self).__init__()\n",
        "        self.bert = bert_model\n",
        "        self.regressor = torch.nn.Linear(768, 1)\n",
        "\n",
        "    def forward(self, input_ids, attention_mask):\n",
        "        outputs = self.bert(input_ids=input_ids, attention_mask=attention_mask, return_dict=True)\n",
        "        pooled_output = outputs.pooler_output\n",
        "        similarity_score = self.regressor(pooled_output)\n",
        "        return similarity_score.squeeze()\n",
        "\n",
        "def load_model(model_path, device):\n",
        "    model = TextSimilarityModel(bert_model)\n",
        "    model.load_state_dict(torch.load(model_path, map_location=device))\n",
        "    model.to(device)\n",
        "    model.eval()\n",
        "    return model\n",
        "\n",
        "def predict(model, test_data_loader, device):\n",
        "    predictions = []\n",
        "    with torch.no_grad():\n",
        "        for batch in test_data_loader:\n",
        "            input_ids = batch['input_ids'].to(device)\n",
        "            attention_mask = batch['attention_mask'].to(device)\n",
        "            outputs = model(input_ids, attention_mask)\n",
        "            predictions.extend(outputs.cpu().numpy())\n",
        "    return predictions\n",
        "\n",
        "def create_output_file(predictions, test_df, output_file_path):\n",
        "    test_df['score'] = predictions\n",
        "    test_df.to_csv(output_file_path, index=False)\n",
        "\n",
        "device = torch.device('cuda' if torch.cuda.is_available() else 'cpu')\n",
        "model_path = '/content/drive/MyDrive/1a_checkpoints/model_epoch_5.pth'\n",
        "test_file_path = '/content/sample_test.csv'\n",
        "output_file_path = '/content/sample_demo.csv'\n",
        "\n",
        "bert_model = BertModel.from_pretrained('bert-base-uncased')\n",
        "tokenizer = BertTokenizer.from_pretrained('bert-base-uncased')\n",
        "test_df = pd.read_csv(test_file_path, delimiter='\\t')\n",
        "test_dataset = TextSimilarityDataset(test_df, tokenizer)\n",
        "test_data_loader = DataLoader(test_dataset, batch_size=16, shuffle=False)\n",
        "\n",
        "model = load_model(model_path, device)\n",
        "predictions = predict(model, test_data_loader, device)\n",
        "create_output_file(predictions, test_df, output_file_path)\n"
      ],
      "metadata": {
        "id": "mGIvYEgCCpX4",
        "colab": {
          "base_uri": "https://localhost:8080/",
          "height": 49,
          "referenced_widgets": [
            "17a5a54c9e304e27a48bc5c65b8002c2",
            "64bbeefe210b494d979df1489272c9cc",
            "cb55076e37bc40ca9e3a0a1cb7daa5cb",
            "91d465e491d24e8ebd08c70a89bce81e",
            "f132c6d568ba4754bf78511c48108805",
            "bc9226f175d04e57a17e5d84ee1deb46",
            "f7bd46667e8344e1a30eb4f77f934587",
            "5cec5e5bf7354237976ad5a33fd1f395",
            "a818d3fb75184247bf19be394773ef80",
            "31ccbb4d13f14fcc8b6fae769ae8349a",
            "2052d139c8da4ef494fc22eebc65eb82"
          ]
        },
        "outputId": "47741d3f-0149-47fe-ea18-3d323e104362"
      },
      "execution_count": 4,
      "outputs": [
        {
          "output_type": "display_data",
          "data": {
            "text/plain": [
              "model.safetensors:   0%|          | 0.00/440M [00:00<?, ?B/s]"
            ],
            "application/vnd.jupyter.widget-view+json": {
              "version_major": 2,
              "version_minor": 0,
              "model_id": "17a5a54c9e304e27a48bc5c65b8002c2"
            }
          },
          "metadata": {}
        }
      ]
    }
  ]
}